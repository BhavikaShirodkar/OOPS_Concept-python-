{
 "cells": [
  {
   "cell_type": "code",
   "execution_count": 2,
   "metadata": {},
   "outputs": [],
   "source": [
    "class bankaccount:\n",
    "    \n",
    "    def openaccount(self,name, email_id):\n",
    "        print(\"open an account by taking name and email_id\")\n",
    "        return name + email_id\n",
    "    \n",
    "    def deposite(self, amount):\n",
    "        print(\"i am trying to deposite an amount in my account\")\n",
    "        \n",
    "    def withdraw(self, amt_with):\n",
    "        print(\"withdraw the amount\")\n",
    "        \n",
    "    def update_detailed(self, name_update, email_update):\n",
    "        print(\"this function will update my name and mail id for account\")\n",
    "        "
   ]
  },
  {
   "cell_type": "code",
   "execution_count": 3,
   "metadata": {},
   "outputs": [],
   "source": [
    "meera = bankaccount()"
   ]
  },
  {
   "cell_type": "code",
   "execution_count": 6,
   "metadata": {},
   "outputs": [
    {
     "name": "stdout",
     "output_type": "stream",
     "text": [
      "open an account by taking name and email_id\n"
     ]
    },
    {
     "data": {
      "text/plain": [
       "'meera meera@gamil.com'"
      ]
     },
     "execution_count": 6,
     "metadata": {},
     "output_type": "execute_result"
    }
   ],
   "source": [
    "meera.openaccount(\"meera \",\"meera@gamil.com\")"
   ]
  },
  {
   "cell_type": "code",
   "execution_count": 7,
   "metadata": {},
   "outputs": [
    {
     "name": "stdout",
     "output_type": "stream",
     "text": [
      "i am trying to deposite an amount in my account\n"
     ]
    }
   ],
   "source": [
    "meera.deposite(7000000)"
   ]
  },
  {
   "cell_type": "code",
   "execution_count": 8,
   "metadata": {},
   "outputs": [
    {
     "name": "stdout",
     "output_type": "stream",
     "text": [
      "withdraw the amount\n"
     ]
    }
   ],
   "source": [
    "meera.withdraw(9823)"
   ]
  },
  {
   "cell_type": "code",
   "execution_count": 9,
   "metadata": {},
   "outputs": [
    {
     "name": "stdout",
     "output_type": "stream",
     "text": [
      "this function will update my name and mail id for account\n"
     ]
    }
   ],
   "source": [
    "meera.update_detailed(\"mira\", \"mira@gmail.com\")"
   ]
  },
  {
   "cell_type": "code",
   "execution_count": 38,
   "metadata": {},
   "outputs": [],
   "source": [
    "class list_ops:\n",
    "    \n",
    "    # a = 10\n",
    "    # l = [6,3,55,78,4,2,46,7,54,]\n",
    "    \n",
    "    def __init__(self, l):\n",
    "        self.l1 = l\n",
    "        self.l2=80\n",
    "        self.l3 = (2,3,45,6)\n",
    "        self.l4 = \"hello\"\n",
    "    \n",
    "    def extractfromindex(self,l,index):\n",
    "        return l[index]\n",
    "    \n",
    "    def extractrangedata(self,l,start,end):\n",
    "        return l[start:end]\n",
    "    \n",
    "    def extracteven(self,l):\n",
    "        l1=[]\n",
    "        for i in l:\n",
    "            if i%2==0:\n",
    "                l1.append(i)\n",
    "        return l1"
   ]
  },
  {
   "cell_type": "code",
   "execution_count": 39,
   "metadata": {},
   "outputs": [],
   "source": [
    "second_obj = list_ops([2,3,4,5,6,7,8])"
   ]
  },
  {
   "cell_type": "code",
   "execution_count": 40,
   "metadata": {},
   "outputs": [
    {
     "data": {
      "text/plain": [
       "'hello'"
      ]
     },
     "execution_count": 40,
     "metadata": {},
     "output_type": "execute_result"
    }
   ],
   "source": [
    "second_obj.l4"
   ]
  },
  {
   "cell_type": "code",
   "execution_count": 37,
   "metadata": {},
   "outputs": [
    {
     "data": {
      "text/plain": [
       "[2, 3, 4, 5, 6, 7, 8]"
      ]
     },
     "execution_count": 37,
     "metadata": {},
     "output_type": "execute_result"
    }
   ],
   "source": [
    "second_obj.l1"
   ]
  },
  {
   "cell_type": "code",
   "execution_count": 23,
   "metadata": {},
   "outputs": [],
   "source": [
    "first_obj = list_ops()"
   ]
  },
  {
   "cell_type": "code",
   "execution_count": 24,
   "metadata": {},
   "outputs": [
    {
     "data": {
      "text/plain": [
       "5"
      ]
     },
     "execution_count": 24,
     "metadata": {},
     "output_type": "execute_result"
    }
   ],
   "source": [
    "first_obj.extractfromindex([2,3,4,5,6], 3)"
   ]
  },
  {
   "cell_type": "code",
   "execution_count": 25,
   "metadata": {},
   "outputs": [
    {
     "data": {
      "text/plain": [
       "[2, 3, 4, 5]"
      ]
     },
     "execution_count": 25,
     "metadata": {},
     "output_type": "execute_result"
    }
   ],
   "source": [
    "first_obj.extractrangedata([2,3,4,5,6,7],0,4)"
   ]
  },
  {
   "cell_type": "code",
   "execution_count": 26,
   "metadata": {},
   "outputs": [
    {
     "data": {
      "text/plain": [
       "[2, 4, 6, 78]"
      ]
     },
     "execution_count": 26,
     "metadata": {},
     "output_type": "execute_result"
    }
   ],
   "source": [
    "first_obj.extracteven([2,3,4,5,6,78,9,1])"
   ]
  },
  {
   "cell_type": "code",
   "execution_count": 27,
   "metadata": {},
   "outputs": [
    {
     "data": {
      "text/plain": [
       "10"
      ]
     },
     "execution_count": 27,
     "metadata": {},
     "output_type": "execute_result"
    }
   ],
   "source": [
    "first_obj.a"
   ]
  },
  {
   "cell_type": "code",
   "execution_count": 28,
   "metadata": {},
   "outputs": [
    {
     "data": {
      "text/plain": [
       "[6, 3, 55, 78, 4, 2, 46, 7, 54]"
      ]
     },
     "execution_count": 28,
     "metadata": {},
     "output_type": "execute_result"
    }
   ],
   "source": [
    "first_obj.l"
   ]
  },
  {
   "cell_type": "code",
   "execution_count": 29,
   "metadata": {},
   "outputs": [
    {
     "data": {
      "text/plain": [
       "[6, 78, 4, 2, 46, 54]"
      ]
     },
     "execution_count": 29,
     "metadata": {},
     "output_type": "execute_result"
    }
   ],
   "source": [
    "first_obj.extracteven(first_obj.l)"
   ]
  },
  {
   "cell_type": "code",
   "execution_count": 42,
   "metadata": {},
   "outputs": [],
   "source": [
    "class book:\n",
    "    \n",
    "    def __init__ (self, name, title, pageno):\n",
    "        self.name_of_book = name\n",
    "        self.title_of_book = title\n",
    "        self.page_no = pageno\n",
    "        \n",
    "    def extract_details(self):\n",
    "        print(self.name_of_book, self.title_of_book)\n",
    "        \n",
    "    def print_page_no(self):\n",
    "        print(self.page_no)"
   ]
  },
  {
   "cell_type": "code",
   "execution_count": 43,
   "metadata": {},
   "outputs": [],
   "source": [
    "shama = book(\"dsa\", \"practical\", 78)\n",
    "maya = book(\"data science\",\"numpy\",90)\n",
    "ram = book(\"big data\",\"hadoop\",86)\n"
   ]
  },
  {
   "cell_type": "code",
   "execution_count": 45,
   "metadata": {},
   "outputs": [
    {
     "name": "stdout",
     "output_type": "stream",
     "text": [
      "dsa practical\n"
     ]
    }
   ],
   "source": [
    "shama.extract_details()"
   ]
  },
  {
   "cell_type": "code",
   "execution_count": 46,
   "metadata": {},
   "outputs": [
    {
     "name": "stdout",
     "output_type": "stream",
     "text": [
      "data science numpy\n"
     ]
    }
   ],
   "source": [
    "maya.extract_details()"
   ]
  },
  {
   "cell_type": "code",
   "execution_count": 48,
   "metadata": {},
   "outputs": [
    {
     "data": {
      "text/plain": [
       "'big data'"
      ]
     },
     "execution_count": 48,
     "metadata": {},
     "output_type": "execute_result"
    }
   ],
   "source": [
    "ram.name_of_book"
   ]
  },
  {
   "cell_type": "code",
   "execution_count": 49,
   "metadata": {},
   "outputs": [],
   "source": [
    "class gamil_ops:\n",
    "    def __init__(self, user_id, password):\n",
    "        self.userid = user_id\n",
    "        self.passw = password\n",
    "        self.url = \"https://mail.google.com/mail/u/0/#inbox\"\n",
    "        \n",
    "    def login(self):\n",
    "        print(\"take userid\" + self.userid + \"take password\" + self.passw + \"hit urd\" + self.url)\n",
    "        print(\"login\")\n",
    "        \n",
    "    def read_mail(self):\n",
    "        print(\"read mail for\" + self.userid + \" \" + self.passw)\n",
    "        \n",
    "    def reply_mail(self):\n",
    "        print(\"reply mail for\" + \" \" + self.userid + \" \" + self.passw)"
   ]
  },
  {
   "cell_type": "code",
   "execution_count": 50,
   "metadata": {},
   "outputs": [],
   "source": [
    "user1 = gamil_ops(\"user1\",\"user1pass\")"
   ]
  },
  {
   "cell_type": "code",
   "execution_count": 52,
   "metadata": {},
   "outputs": [
    {
     "name": "stdout",
     "output_type": "stream",
     "text": [
      "take useriduser1take passworduser1passhit urdhttps://mail.google.com/mail/u/0/#inbox\n",
      "login\n"
     ]
    }
   ],
   "source": [
    "user1.login()"
   ]
  },
  {
   "cell_type": "code",
   "execution_count": 53,
   "metadata": {},
   "outputs": [],
   "source": [
    "user2 = gamil_ops(\"user2\",'userpass2')"
   ]
  },
  {
   "cell_type": "code",
   "execution_count": 54,
   "metadata": {},
   "outputs": [
    {
     "name": "stdout",
     "output_type": "stream",
     "text": [
      "read mail foruser2 userpass2\n"
     ]
    }
   ],
   "source": [
    "user2.read_mail()"
   ]
  },
  {
   "cell_type": "code",
   "execution_count": 58,
   "metadata": {},
   "outputs": [],
   "source": [
    "from functools import reduce\n",
    "\n",
    "class calculator():\n",
    "    \n",
    "    def __init__(self, username):\n",
    "         self.user = username\n",
    "         \n",
    "        \n",
    "    def addition(self, *args):\n",
    "        return self.user, sum(args)\n",
    "    \n",
    "    def sub(self, *args):\n",
    "        return self.user, reduce(lambda a,b : a-b , args)\n",
    "    \n",
    "    def mul(self, *args):\n",
    "        return self.user, reduce(lambda a,b : a*b, args)\n",
    "    "
   ]
  },
  {
   "cell_type": "code",
   "execution_count": 59,
   "metadata": {},
   "outputs": [
    {
     "data": {
      "text/plain": [
       "('calsi-user', 14)"
      ]
     },
     "execution_count": 59,
     "metadata": {},
     "output_type": "execute_result"
    }
   ],
   "source": [
    "avni = calculator(\"calsi-user\")\n",
    "avni.addition(2,3,4,5)"
   ]
  },
  {
   "cell_type": "code",
   "execution_count": 60,
   "metadata": {},
   "outputs": [
    {
     "data": {
      "text/plain": [
       "('calsi-user', 120)"
      ]
     },
     "execution_count": 60,
     "metadata": {},
     "output_type": "execute_result"
    }
   ],
   "source": [
    "avni.mul(8,3,5)"
   ]
  },
  {
   "cell_type": "code",
   "execution_count": null,
   "metadata": {},
   "outputs": [],
   "source": []
  }
 ],
 "metadata": {
  "kernelspec": {
   "display_name": "Python 3",
   "language": "python",
   "name": "python3"
  },
  "language_info": {
   "codemirror_mode": {
    "name": "ipython",
    "version": 3
   },
   "file_extension": ".py",
   "mimetype": "text/x-python",
   "name": "python",
   "nbconvert_exporter": "python",
   "pygments_lexer": "ipython3",
   "version": "3.11.5"
  }
 },
 "nbformat": 4,
 "nbformat_minor": 2
}
